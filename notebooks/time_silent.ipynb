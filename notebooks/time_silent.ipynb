{
 "cells": [
  {
   "cell_type": "code",
   "execution_count": 1,
   "metadata": {},
   "outputs": [],
   "source": [
    "import pandas as pd\n",
    "from pyarrow.feather import read_feather\n",
    "from pathlib import Path\n",
    "from spiketimes.alignment import binned_spiketrain\n",
    "from spiketimes.df import spikes_df_to_binned_df, df_binned_to_bool\n",
    "import numpy as np"
   ]
  },
  {
   "cell_type": "code",
   "execution_count": 2,
   "metadata": {},
   "outputs": [],
   "source": [
    "data_dir = Path(\".\").absolute().parent / \"data\"\n",
    "df = read_feather(str(data_dir / \"spiketimes_pre.feather\"))"
   ]
  },
  {
   "cell_type": "code",
   "execution_count": 3,
   "metadata": {},
   "outputs": [
    {
     "data": {
      "text/html": [
       "<div>\n",
       "<style scoped>\n",
       "    .dataframe tbody tr th:only-of-type {\n",
       "        vertical-align: middle;\n",
       "    }\n",
       "\n",
       "    .dataframe tbody tr th {\n",
       "        vertical-align: top;\n",
       "    }\n",
       "\n",
       "    .dataframe thead th {\n",
       "        text-align: right;\n",
       "    }\n",
       "</style>\n",
       "<table border=\"1\" class=\"dataframe\">\n",
       "  <thead>\n",
       "    <tr style=\"text-align: right;\">\n",
       "      <th></th>\n",
       "      <th>neuron_id</th>\n",
       "      <th>spike_time_samples</th>\n",
       "      <th>experiment_name</th>\n",
       "      <th>group_name</th>\n",
       "    </tr>\n",
       "  </thead>\n",
       "  <tbody>\n",
       "    <tr>\n",
       "      <th>0</th>\n",
       "      <td>276</td>\n",
       "      <td>639262</td>\n",
       "      <td>OPTO</td>\n",
       "      <td>SERT-CHR2</td>\n",
       "    </tr>\n",
       "    <tr>\n",
       "      <th>1</th>\n",
       "      <td>276</td>\n",
       "      <td>841590</td>\n",
       "      <td>OPTO</td>\n",
       "      <td>SERT-CHR2</td>\n",
       "    </tr>\n",
       "    <tr>\n",
       "      <th>2</th>\n",
       "      <td>276</td>\n",
       "      <td>1786592</td>\n",
       "      <td>OPTO</td>\n",
       "      <td>SERT-CHR2</td>\n",
       "    </tr>\n",
       "    <tr>\n",
       "      <th>3</th>\n",
       "      <td>276</td>\n",
       "      <td>2299466</td>\n",
       "      <td>OPTO</td>\n",
       "      <td>SERT-CHR2</td>\n",
       "    </tr>\n",
       "    <tr>\n",
       "      <th>4</th>\n",
       "      <td>276</td>\n",
       "      <td>2374137</td>\n",
       "      <td>OPTO</td>\n",
       "      <td>SERT-CHR2</td>\n",
       "    </tr>\n",
       "  </tbody>\n",
       "</table>\n",
       "</div>"
      ],
      "text/plain": [
       "   neuron_id  spike_time_samples experiment_name group_name\n",
       "0        276              639262            OPTO  SERT-CHR2\n",
       "1        276              841590            OPTO  SERT-CHR2\n",
       "2        276             1786592            OPTO  SERT-CHR2\n",
       "3        276             2299466            OPTO  SERT-CHR2\n",
       "4        276             2374137            OPTO  SERT-CHR2"
      ]
     },
     "execution_count": 3,
     "metadata": {},
     "output_type": "execute_result"
    }
   ],
   "source": [
    "df.head()"
   ]
  },
  {
   "cell_type": "code",
   "execution_count": 4,
   "metadata": {},
   "outputs": [],
   "source": [
    "df_bin = df.assign(spikes=df[\"spike_time_samples\"].divide(30000)).pipe(spikes_df_to_binned_df, spiketimes_col=\"spikes\", fs=1, t_start=0)"
   ]
  },
  {
   "cell_type": "code",
   "execution_count": 8,
   "metadata": {},
   "outputs": [],
   "source": [
    "df_bin[\"has_spike\"] = df_binned_to_bool(df_bin[\"spike_count\"])"
   ]
  },
  {
   "cell_type": "code",
   "execution_count": null,
   "metadata": {},
   "outputs": [],
   "source": []
  },
  {
   "cell_type": "code",
   "execution_count": 9,
   "metadata": {},
   "outputs": [
    {
     "data": {
      "text/html": [
       "<div>\n",
       "<style scoped>\n",
       "    .dataframe tbody tr th:only-of-type {\n",
       "        vertical-align: middle;\n",
       "    }\n",
       "\n",
       "    .dataframe tbody tr th {\n",
       "        vertical-align: top;\n",
       "    }\n",
       "\n",
       "    .dataframe thead th {\n",
       "        text-align: right;\n",
       "    }\n",
       "</style>\n",
       "<table border=\"1\" class=\"dataframe\">\n",
       "  <thead>\n",
       "    <tr style=\"text-align: right;\">\n",
       "      <th></th>\n",
       "      <th>neuron_id</th>\n",
       "      <th>time</th>\n",
       "      <th>spike_count</th>\n",
       "      <th>has_spike</th>\n",
       "      <th>has_spike2</th>\n",
       "    </tr>\n",
       "  </thead>\n",
       "  <tbody>\n",
       "    <tr>\n",
       "      <th>count</th>\n",
       "      <td>644864.000000</td>\n",
       "      <td>644864.000000</td>\n",
       "      <td>644864.000000</td>\n",
       "      <td>644864.000000</td>\n",
       "      <td>644864.000000</td>\n",
       "    </tr>\n",
       "    <tr>\n",
       "      <th>mean</th>\n",
       "      <td>882.093855</td>\n",
       "      <td>596.592500</td>\n",
       "      <td>0.908717</td>\n",
       "      <td>0.305137</td>\n",
       "      <td>0.305137</td>\n",
       "    </tr>\n",
       "    <tr>\n",
       "      <th>std</th>\n",
       "      <td>610.556599</td>\n",
       "      <td>345.666673</td>\n",
       "      <td>2.074435</td>\n",
       "      <td>0.460466</td>\n",
       "      <td>0.460466</td>\n",
       "    </tr>\n",
       "    <tr>\n",
       "      <th>min</th>\n",
       "      <td>276.000000</td>\n",
       "      <td>0.000000</td>\n",
       "      <td>0.000000</td>\n",
       "      <td>0.000000</td>\n",
       "      <td>0.000000</td>\n",
       "    </tr>\n",
       "    <tr>\n",
       "      <th>25%</th>\n",
       "      <td>491.000000</td>\n",
       "      <td>297.000000</td>\n",
       "      <td>0.000000</td>\n",
       "      <td>0.000000</td>\n",
       "      <td>0.000000</td>\n",
       "    </tr>\n",
       "    <tr>\n",
       "      <th>50%</th>\n",
       "      <td>720.000000</td>\n",
       "      <td>596.000000</td>\n",
       "      <td>0.000000</td>\n",
       "      <td>0.000000</td>\n",
       "      <td>0.000000</td>\n",
       "    </tr>\n",
       "    <tr>\n",
       "      <th>75%</th>\n",
       "      <td>915.000000</td>\n",
       "      <td>894.000000</td>\n",
       "      <td>1.000000</td>\n",
       "      <td>1.000000</td>\n",
       "      <td>1.000000</td>\n",
       "    </tr>\n",
       "    <tr>\n",
       "      <th>max</th>\n",
       "      <td>2373.000000</td>\n",
       "      <td>1232.000000</td>\n",
       "      <td>54.000000</td>\n",
       "      <td>1.000000</td>\n",
       "      <td>1.000000</td>\n",
       "    </tr>\n",
       "  </tbody>\n",
       "</table>\n",
       "</div>"
      ],
      "text/plain": [
       "           neuron_id           time    spike_count      has_spike  \\\n",
       "count  644864.000000  644864.000000  644864.000000  644864.000000   \n",
       "mean      882.093855     596.592500       0.908717       0.305137   \n",
       "std       610.556599     345.666673       2.074435       0.460466   \n",
       "min       276.000000       0.000000       0.000000       0.000000   \n",
       "25%       491.000000     297.000000       0.000000       0.000000   \n",
       "50%       720.000000     596.000000       0.000000       0.000000   \n",
       "75%       915.000000     894.000000       1.000000       1.000000   \n",
       "max      2373.000000    1232.000000      54.000000       1.000000   \n",
       "\n",
       "          has_spike2  \n",
       "count  644864.000000  \n",
       "mean        0.305137  \n",
       "std         0.460466  \n",
       "min         0.000000  \n",
       "25%         0.000000  \n",
       "50%         0.000000  \n",
       "75%         1.000000  \n",
       "max         1.000000  "
      ]
     },
     "execution_count": 9,
     "metadata": {},
     "output_type": "execute_result"
    }
   ],
   "source": [
    "df_bin['has_spike2'] = np.where(df_bin['spike_count']!=0, 1, 0)\n",
    "df_bin.describe()"
   ]
  },
  {
   "cell_type": "code",
   "execution_count": 17,
   "metadata": {},
   "outputs": [
    {
     "data": {
      "text/plain": [
       "neuron_id\n",
       "276     0.759935\n",
       "277     0.528838\n",
       "278     0.446878\n",
       "279     0.686131\n",
       "284     0.994398\n",
       "          ...   \n",
       "2369    0.637037\n",
       "2370    0.954733\n",
       "2371    0.786480\n",
       "2372    0.914403\n",
       "2373    0.796373\n",
       "Length: 542, dtype: float64"
      ]
     },
     "execution_count": 17,
     "metadata": {},
     "output_type": "execute_result"
    }
   ],
   "source": [
    "(\n",
    "    df_bin.groupby(\"neuron_id\")\n",
    "    .apply(lambda x: (x['has_spike'] == 0).mean()\n",
    "          )\n",
    ").reset_index()"
   ]
  },
  {
   "cell_type": "code",
   "execution_count": null,
   "metadata": {},
   "outputs": [],
   "source": [
    "(df_bin['has_spike'] == 0).mean()"
   ]
  }
 ],
 "metadata": {
  "kernelspec": {
   "display_name": "Python 3",
   "language": "python",
   "name": "python3"
  },
  "language_info": {
   "codemirror_mode": {
    "name": "ipython",
    "version": 3
   },
   "file_extension": ".py",
   "mimetype": "text/x-python",
   "name": "python",
   "nbconvert_exporter": "python",
   "pygments_lexer": "ipython3",
   "version": "3.6.9"
  }
 },
 "nbformat": 4,
 "nbformat_minor": 2
}
