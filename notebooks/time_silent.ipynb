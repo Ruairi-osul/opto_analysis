{
 "cells": [
  {
   "cell_type": "code",
   "execution_count": 1,
   "metadata": {},
   "outputs": [],
   "source": [
    "import pandas as pd\n",
    "from pyarrow.feather import read_feather\n",
    "from pathlib import Path\n",
    "from spiketimes.alignment import binned_spiketrain\n",
    "from spiketimes.df import spikes_df_to_binned_df, df_binned_to_bool\n",
    "import numpy as np"
   ]
  },
  {
   "cell_type": "code",
   "execution_count": 2,
   "metadata": {},
   "outputs": [],
   "source": [
    "data_dir = Path(\".\").absolute().parent / \"data\"\n",
    "df = read_feather(str(data_dir / \"spiketimes_pre.feather\"))"
   ]
  },
  {
   "cell_type": "code",
   "execution_count": 3,
   "metadata": {},
   "outputs": [
    {
     "data": {
      "text/html": [
       "<div>\n",
       "<style scoped>\n",
       "    .dataframe tbody tr th:only-of-type {\n",
       "        vertical-align: middle;\n",
       "    }\n",
       "\n",
       "    .dataframe tbody tr th {\n",
       "        vertical-align: top;\n",
       "    }\n",
       "\n",
       "    .dataframe thead th {\n",
       "        text-align: right;\n",
       "    }\n",
       "</style>\n",
       "<table border=\"1\" class=\"dataframe\">\n",
       "  <thead>\n",
       "    <tr style=\"text-align: right;\">\n",
       "      <th></th>\n",
       "      <th>neuron_id</th>\n",
       "      <th>spike_time_samples</th>\n",
       "      <th>experiment_name</th>\n",
       "      <th>group_name</th>\n",
       "    </tr>\n",
       "  </thead>\n",
       "  <tbody>\n",
       "    <tr>\n",
       "      <th>0</th>\n",
       "      <td>276</td>\n",
       "      <td>639262</td>\n",
       "      <td>OPTO</td>\n",
       "      <td>SERT-CHR2</td>\n",
       "    </tr>\n",
       "    <tr>\n",
       "      <th>1</th>\n",
       "      <td>276</td>\n",
       "      <td>841590</td>\n",
       "      <td>OPTO</td>\n",
       "      <td>SERT-CHR2</td>\n",
       "    </tr>\n",
       "    <tr>\n",
       "      <th>2</th>\n",
       "      <td>276</td>\n",
       "      <td>1786592</td>\n",
       "      <td>OPTO</td>\n",
       "      <td>SERT-CHR2</td>\n",
       "    </tr>\n",
       "    <tr>\n",
       "      <th>3</th>\n",
       "      <td>276</td>\n",
       "      <td>2299466</td>\n",
       "      <td>OPTO</td>\n",
       "      <td>SERT-CHR2</td>\n",
       "    </tr>\n",
       "    <tr>\n",
       "      <th>4</th>\n",
       "      <td>276</td>\n",
       "      <td>2374137</td>\n",
       "      <td>OPTO</td>\n",
       "      <td>SERT-CHR2</td>\n",
       "    </tr>\n",
       "  </tbody>\n",
       "</table>\n",
       "</div>"
      ],
      "text/plain": [
       "   neuron_id  spike_time_samples experiment_name group_name\n",
       "0        276              639262            OPTO  SERT-CHR2\n",
       "1        276              841590            OPTO  SERT-CHR2\n",
       "2        276             1786592            OPTO  SERT-CHR2\n",
       "3        276             2299466            OPTO  SERT-CHR2\n",
       "4        276             2374137            OPTO  SERT-CHR2"
      ]
     },
     "execution_count": 3,
     "metadata": {},
     "output_type": "execute_result"
    }
   ],
   "source": [
    "df.head()"
   ]
  },
  {
   "cell_type": "code",
   "execution_count": 4,
   "metadata": {},
   "outputs": [],
   "source": [
    "df_bin = df.assign(spikes=df[\"spike_time_samples\"].divide(30000)).pipe(spikes_df_to_binned_df, spiketimes_col=\"spikes\", fs=1, t_start=0)"
   ]
  },
  {
   "cell_type": "code",
   "execution_count": 8,
   "metadata": {},
   "outputs": [],
   "source": [
    "df_bin[\"has_spike\"] = df_binned_to_bool(df_bin[\"spike_count\"])"
   ]
  },
  {
   "cell_type": "code",
   "execution_count": 17,
   "metadata": {},
   "outputs": [
    {
     "data": {
      "text/plain": [
       "neuron_id\n",
       "276     0.759935\n",
       "277     0.528838\n",
       "278     0.446878\n",
       "279     0.686131\n",
       "284     0.994398\n",
       "          ...   \n",
       "2369    0.637037\n",
       "2370    0.954733\n",
       "2371    0.786480\n",
       "2372    0.914403\n",
       "2373    0.796373\n",
       "Length: 542, dtype: float64"
      ]
     },
     "execution_count": 17,
     "metadata": {},
     "output_type": "execute_result"
    }
   ],
   "source": [
    "(\n",
    "    df_bin.groupby(\"neuron_id\")\n",
    "    .apply(lambda x: (x['has_spike'] == 0).mean()\n",
    "          )\n",
    ").reset_index()"
   ]
  },
  {
   "cell_type": "code",
   "execution_count": null,
   "metadata": {},
   "outputs": [],
   "source": [
    "(df_bin['has_spike'] == 0).mean()"
   ]
  }
 ],
 "metadata": {
  "kernelspec": {
   "display_name": "Python 3",
   "language": "python",
   "name": "python3"
  },
  "language_info": {
   "codemirror_mode": {
    "name": "ipython",
    "version": 3
   },
   "file_extension": ".py",
   "mimetype": "text/x-python",
   "name": "python",
   "nbconvert_exporter": "python",
   "pygments_lexer": "ipython3",
   "version": "3.6.9"
  }
 },
 "nbformat": 4,
 "nbformat_minor": 2
}
