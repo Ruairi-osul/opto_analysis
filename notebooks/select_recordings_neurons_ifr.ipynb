{
 "cells": [
  {
   "cell_type": "code",
   "execution_count": 1,
   "metadata": {},
   "outputs": [],
   "source": [
    "from ephys_queries import select_recording_sessions, select_neurons, select_ifr, db_setup_core\n",
    "import dotenv\n",
    "from pathlib import Path\n",
    "from pyarrow.feather import write_feather"
   ]
  },
  {
   "cell_type": "code",
   "execution_count": 2,
   "metadata": {},
   "outputs": [],
   "source": [
    "dotenv.load_dotenv()\n",
    "engine, metadata = db_setup_core()\n",
    "data_dir = Path(\".\").absolute().parent / \"data\""
   ]
  },
  {
   "cell_type": "code",
   "execution_count": null,
   "metadata": {},
   "outputs": [],
   "source": [
    "df_recordings = select_recording_sessions(engine, metadata, exp_names=[\"OPTO\"])\\\n",
    "                    .pipe(lambda x: x.assign(start_time=x[\"start_time\"].astype(str)))\n",
    "df_neurons = select_neurons(engine, metadata, exp_names=[\"OPTO\"])\n",
    "df_ifr_pre = select_ifr(engine, metadata, block_name=\"pre\", exp_names=[\"OPTO\"])\n",
    "df_ifr_all = select_ifr(engine, metadata, block_name=\"all\", exp_names=[\"OPTO\"])"
   ]
  },
  {
   "cell_type": "code",
   "execution_count": null,
   "metadata": {
    "scrolled": true
   },
   "outputs": [],
   "source": [
    "write_feather(df_recordings, data_dir / \"recordings.feather\")\n",
    "write_feather(df_neurons, data_dir / \"neurons.feather\")\n",
    "write_feather(df_ifr_pre, data_dir / \"ifr_pre.feather\")\n",
    "write_feather(df_ifr_all, data_dir / \"ifr_all.feather\")"
   ]
  },
  {
   "cell_type": "code",
   "execution_count": null,
   "metadata": {},
   "outputs": [],
   "source": [
    "df_recordings.head()"
   ]
  },
  {
   "cell_type": "code",
   "execution_count": null,
   "metadata": {},
   "outputs": [],
   "source": [
    "df_neurons.head()"
   ]
  },
  {
   "cell_type": "code",
   "execution_count": null,
   "metadata": {},
   "outputs": [],
   "source": [
    "df_ifr.head()"
   ]
  },
  {
   "cell_type": "code",
   "execution_count": null,
   "metadata": {},
   "outputs": [],
   "source": []
  }
 ],
 "metadata": {
  "kernelspec": {
   "display_name": "Python 3",
   "language": "python",
   "name": "python3"
  },
  "language_info": {
   "codemirror_mode": {
    "name": "ipython",
    "version": 3
   },
   "file_extension": ".py",
   "mimetype": "text/x-python",
   "name": "python",
   "nbconvert_exporter": "python",
   "pygments_lexer": "ipython3",
   "version": "3.6.9"
  }
 },
 "nbformat": 4,
 "nbformat_minor": 2
}
