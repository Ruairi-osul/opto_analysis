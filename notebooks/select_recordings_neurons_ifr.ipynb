{
 "cells": [
  {
   "cell_type": "code",
   "execution_count": 9,
   "metadata": {},
   "outputs": [],
   "source": [
    "from ephys_queries import select_recording_sessions, select_neurons, select_ifr, db_setup_core, select_spike_times\n",
    "import dotenv\n",
    "from pathlib import Path\n",
    "from pyarrow.feather import write_feather"
   ]
  },
  {
   "cell_type": "code",
   "execution_count": 2,
   "metadata": {},
   "outputs": [],
   "source": [
    "dotenv.load_dotenv()\n",
    "engine, metadata = db_setup_core()\n",
    "data_dir = Path(\".\").absolute().parent / \"data\""
   ]
  },
  {
   "cell_type": "code",
   "execution_count": 10,
   "metadata": {},
   "outputs": [],
   "source": [
    "df_recordings = select_recording_sessions(engine, metadata, exp_names=[\"OPTO\"])\\\n",
    "                    .pipe(lambda x: x.assign(start_time=x[\"start_time\"].astype(str)))\n",
    "df_neurons = select_neurons(engine, metadata, exp_names=[\"OPTO\"])\n",
    "# df_ifr_pre = select_ifr(engine, metadata, block_name=\"pre\", exp_names=[\"OPTO\"])\n",
    "df_st_pre = select_spike_times(engine, metadata, block_name=\"pre\", exp_names=[\"OPTO\"])"
   ]
  },
  {
   "cell_type": "code",
   "execution_count": 11,
   "metadata": {
    "scrolled": true
   },
   "outputs": [],
   "source": [
    "write_feather(df_recordings, data_dir / \"recordings.feather\")\n",
    "write_feather(df_neurons, data_dir / \"neurons.feather\")\n",
    "write_feather(df_ifr_pre, data_dir / \"ifr_pre.feather\")\n",
    "write_feather(df_st_pre, data_dir / \"spiketimes_pre.feather\")"
   ]
  },
  {
   "cell_type": "code",
   "execution_count": 4,
   "metadata": {},
   "outputs": [
    {
     "data": {
      "text/html": [
       "<div>\n",
       "<style scoped>\n",
       "    .dataframe tbody tr th:only-of-type {\n",
       "        vertical-align: middle;\n",
       "    }\n",
       "\n",
       "    .dataframe tbody tr th {\n",
       "        vertical-align: top;\n",
       "    }\n",
       "\n",
       "    .dataframe thead th {\n",
       "        text-align: right;\n",
       "    }\n",
       "</style>\n",
       "<table border=\"1\" class=\"dataframe\">\n",
       "  <thead>\n",
       "    <tr style=\"text-align: right;\">\n",
       "      <th></th>\n",
       "      <th>id</th>\n",
       "      <th>session_name</th>\n",
       "      <th>session_date</th>\n",
       "      <th>start_time</th>\n",
       "      <th>group_id</th>\n",
       "      <th>mouse_id</th>\n",
       "      <th>chan_map_id</th>\n",
       "      <th>excluded</th>\n",
       "      <th>group_name</th>\n",
       "      <th>experiment_name</th>\n",
       "    </tr>\n",
       "  </thead>\n",
       "  <tbody>\n",
       "    <tr>\n",
       "      <th>0</th>\n",
       "      <td>10</td>\n",
       "      <td>opto_03</td>\n",
       "      <td>2019-07-05</td>\n",
       "      <td>15:26:36</td>\n",
       "      <td>3</td>\n",
       "      <td>None</td>\n",
       "      <td>1</td>\n",
       "      <td>None</td>\n",
       "      <td>SERT-CHR2</td>\n",
       "      <td>OPTO</td>\n",
       "    </tr>\n",
       "    <tr>\n",
       "      <th>1</th>\n",
       "      <td>11</td>\n",
       "      <td>opto_05</td>\n",
       "      <td>2019-07-06</td>\n",
       "      <td>13:54:31</td>\n",
       "      <td>3</td>\n",
       "      <td>None</td>\n",
       "      <td>1</td>\n",
       "      <td>None</td>\n",
       "      <td>SERT-CHR2</td>\n",
       "      <td>OPTO</td>\n",
       "    </tr>\n",
       "    <tr>\n",
       "      <th>2</th>\n",
       "      <td>12</td>\n",
       "      <td>opto_06</td>\n",
       "      <td>2019-07-07</td>\n",
       "      <td>11:14:01</td>\n",
       "      <td>3</td>\n",
       "      <td>None</td>\n",
       "      <td>1</td>\n",
       "      <td>None</td>\n",
       "      <td>SERT-CHR2</td>\n",
       "      <td>OPTO</td>\n",
       "    </tr>\n",
       "    <tr>\n",
       "      <th>3</th>\n",
       "      <td>13</td>\n",
       "      <td>opto_07</td>\n",
       "      <td>2019-07-07</td>\n",
       "      <td>14:43:28</td>\n",
       "      <td>3</td>\n",
       "      <td>None</td>\n",
       "      <td>1</td>\n",
       "      <td>None</td>\n",
       "      <td>SERT-CHR2</td>\n",
       "      <td>OPTO</td>\n",
       "    </tr>\n",
       "    <tr>\n",
       "      <th>4</th>\n",
       "      <td>14</td>\n",
       "      <td>opto_08</td>\n",
       "      <td>2019-07-08</td>\n",
       "      <td>11:16:09</td>\n",
       "      <td>3</td>\n",
       "      <td>None</td>\n",
       "      <td>1</td>\n",
       "      <td>None</td>\n",
       "      <td>SERT-CHR2</td>\n",
       "      <td>OPTO</td>\n",
       "    </tr>\n",
       "  </tbody>\n",
       "</table>\n",
       "</div>"
      ],
      "text/plain": [
       "   id session_name session_date start_time  group_id mouse_id  chan_map_id  \\\n",
       "0  10      opto_03   2019-07-05   15:26:36         3     None            1   \n",
       "1  11      opto_05   2019-07-06   13:54:31         3     None            1   \n",
       "2  12      opto_06   2019-07-07   11:14:01         3     None            1   \n",
       "3  13      opto_07   2019-07-07   14:43:28         3     None            1   \n",
       "4  14      opto_08   2019-07-08   11:16:09         3     None            1   \n",
       "\n",
       "  excluded group_name experiment_name  \n",
       "0     None  SERT-CHR2            OPTO  \n",
       "1     None  SERT-CHR2            OPTO  \n",
       "2     None  SERT-CHR2            OPTO  \n",
       "3     None  SERT-CHR2            OPTO  \n",
       "4     None  SERT-CHR2            OPTO  "
      ]
     },
     "execution_count": 4,
     "metadata": {},
     "output_type": "execute_result"
    }
   ],
   "source": [
    "df_recordings.head()"
   ]
  },
  {
   "cell_type": "code",
   "execution_count": 5,
   "metadata": {},
   "outputs": [
    {
     "data": {
      "text/plain": [
       "547"
      ]
     },
     "execution_count": 5,
     "metadata": {},
     "output_type": "execute_result"
    }
   ],
   "source": [
    "df_neurons.id.nunique()"
   ]
  },
  {
   "cell_type": "code",
   "execution_count": 6,
   "metadata": {},
   "outputs": [
    {
     "data": {
      "text/plain": [
       "547"
      ]
     },
     "execution_count": 6,
     "metadata": {},
     "output_type": "execute_result"
    }
   ],
   "source": [
    "df_ifr_pre.neuron_id.nunique()"
   ]
  },
  {
   "cell_type": "code",
   "execution_count": 16,
   "metadata": {},
   "outputs": [
    {
     "data": {
      "text/plain": [
       "Index(['neuron_id', 'ifr', 'timepoint_s', 'experiment_name', 'group_name'], dtype='object')"
      ]
     },
     "execution_count": 16,
     "metadata": {},
     "output_type": "execute_result"
    }
   ],
   "source": [
    "df_ifr_pre.columns"
   ]
  },
  {
   "cell_type": "code",
   "execution_count": null,
   "metadata": {},
   "outputs": [],
   "source": []
  }
 ],
 "metadata": {
  "kernelspec": {
   "display_name": "Python 3",
   "language": "python",
   "name": "python3"
  },
  "language_info": {
   "codemirror_mode": {
    "name": "ipython",
    "version": 3
   },
   "file_extension": ".py",
   "mimetype": "text/x-python",
   "name": "python",
   "nbconvert_exporter": "python",
   "pygments_lexer": "ipython3",
   "version": "3.6.9"
  }
 },
 "nbformat": 4,
 "nbformat_minor": 2
}
