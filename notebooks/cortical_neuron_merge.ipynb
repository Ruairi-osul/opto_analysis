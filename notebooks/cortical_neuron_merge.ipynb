{
 "cells": [
  {
   "cell_type": "code",
   "execution_count": 1,
   "metadata": {},
   "outputs": [],
   "source": [
    "import pandas as pd\n",
    "import numpy as np\n",
    "from pyarrow.feather import read_feather\n",
    "from pathlib import Path\n",
    "from ephys_queries import select_ifr, db_setup_core, select_spike_times, select_neurons\n",
    "from dotenv import load_dotenv"
   ]
  },
  {
   "cell_type": "code",
   "execution_count": 2,
   "metadata": {},
   "outputs": [],
   "source": [
    "from spiketimes.df import mean_firing_rate_ifr_by_neuron, cv_isi_by_neuron\n",
    "from spiketimes.df import spikes_df_to_binned_df, df_binned_to_bool, fraction_silent_by_neuron\n",
    "from spiketimes.df import waveform_width_by_neuron, peak_asymmetry_by_neuron\n",
    "from spiketimes.df import correlate_all_neurons, correlate_all_neurons_by"
   ]
  },
  {
   "cell_type": "code",
   "execution_count": 3,
   "metadata": {},
   "outputs": [],
   "source": [
    "data_dir = Path(\".\").absolute().parent / \"data\" \n",
    "df_peaks = read_feather(data_dir / \"waveform_peaks.feather\")\n",
    "df_waves = read_feather(data_dir / \"waveforms.feather\")"
   ]
  },
  {
   "cell_type": "code",
   "execution_count": 4,
   "metadata": {},
   "outputs": [],
   "source": [
    "load_dotenv()\n",
    "engine, metadata = db_setup_core()\n",
    "\n",
    "df_ifr = select_ifr(engine, metadata, exp_names=[\"OPTO\"], block_name=\"pre\")\n",
    "df_spikes = select_spike_times(engine, metadata, exp_names=[\"OPTO\"], block_name=\"pre\")\n",
    "df_neurons = select_neurons(engine, metadata, exp_names=[\"OPTO\"])"
   ]
  },
  {
   "cell_type": "code",
   "execution_count": 5,
   "metadata": {},
   "outputs": [
    {
     "name": "stderr",
     "output_type": "stream",
     "text": [
      "/home/rory/repos/opto_analysis/venv/lib/python3.6/site-packages/numpy/core/_methods.py:217: RuntimeWarning: Degrees of freedom <= 0 for slice\n",
      "  keepdims=keepdims)\n",
      "/home/rory/repos/opto_analysis/venv/lib/python3.6/site-packages/numpy/core/_methods.py:186: RuntimeWarning: invalid value encountered in true_divide\n",
      "  arrmean, rcount, out=arrmean, casting='unsafe', subok=False)\n",
      "/home/rory/repos/opto_analysis/venv/lib/python3.6/site-packages/numpy/core/_methods.py:209: RuntimeWarning: invalid value encountered in double_scalars\n",
      "  ret = ret.dtype.type(ret / rcount)\n",
      "/home/rory/repos/opto_analysis/venv/lib/python3.6/site-packages/scipy/stats/stats.py:1040: RuntimeWarning: Mean of empty slice.\n",
      "  return a.std(axis) / a.mean(axis)\n",
      "/home/rory/repos/opto_analysis/venv/lib/python3.6/site-packages/numpy/core/_methods.py:161: RuntimeWarning: invalid value encountered in double_scalars\n",
      "  ret = ret.dtype.type(ret / rcount)\n"
     ]
    }
   ],
   "source": [
    "df_mfr = mean_firing_rate_ifr_by_neuron(df_ifr)\n",
    "df_cv = (\n",
    "    df_spikes\n",
    "    .assign(spikes=df_spikes[\"spike_time_samples\"].divide(30000))\n",
    "    .pipe(lambda x: cv_isi_by_neuron(x, spiketimes_col=\"spikes\"))\n",
    ")"
   ]
  },
  {
   "cell_type": "code",
   "execution_count": 6,
   "metadata": {},
   "outputs": [],
   "source": [
    "df_bin = (\n",
    "    df_spikes\n",
    "    .assign(spiketimes=df_spikes.spike_time_samples.divide(30000))\n",
    "    .pipe(lambda x: spikes_df_to_binned_df(x, spiketimes_col=\"spiketimes\", fs=1, t_start=0))\n",
    ")\n",
    "df_sil = (\n",
    "    df_bin\n",
    "    .assign(has_spike=df_binned_to_bool(df_bin[\"spike_count\"]))\n",
    "    .pipe(lambda x: fraction_silent_by_neuron(x, bool_col=\"has_spike\"))\n",
    ")"
   ]
  },
  {
   "cell_type": "code",
   "execution_count": 7,
   "metadata": {},
   "outputs": [],
   "source": [
    "df_waveform_width = waveform_width_by_neuron(df_peaks.dropna())\n",
    "df_asym = peak_asymmetry_by_neuron(df_peaks)"
   ]
  },
  {
   "cell_type": "code",
   "execution_count": 9,
   "metadata": {},
   "outputs": [],
   "source": [
    "df_corr = (\n",
    "            pd.merge(df_bin, df_neurons[[\"id\", \"session_name\"]], left_on=\"neuron_id\", right_on=\"id\")\n",
    "            .pipe(lambda x: correlate_all_neurons_by(x, binned_spikes_col=\"spike_count\", by_col=\"session_name\"))\n",
    ")\n"
   ]
  },
  {
   "cell_type": "code",
   "execution_count": 11,
   "metadata": {},
   "outputs": [
    {
     "data": {
      "text/plain": [
       "<matplotlib.axes._subplots.AxesSubplot at 0x7f10dbca9ef0>"
      ]
     },
     "execution_count": 11,
     "metadata": {},
     "output_type": "execute_result"
    },
    {
     "data": {
      "image/png": "[encoded data removed]",
      "text/plain": [
       "<Figure size 432x288 with 1 Axes>"
      ]
     },
     "metadata": {
      "needs_background": "light"
     },
     "output_type": "display_data"
    }
   ],
   "source": [
    "df_corr.pearson_r.plot(kind=\"hist\", bins=100)"
   ]
  },
  {
   "cell_type": "code",
   "execution_count": null,
   "metadata": {},
   "outputs": [],
   "source": []
  }
 ],
 "metadata": {
  "kernelspec": {
   "display_name": "Python 3",
   "language": "python",
   "name": "python3"
  },
  "language_info": {
   "codemirror_mode": {
    "name": "ipython",
    "version": 3
   },
   "file_extension": ".py",
   "mimetype": "text/x-python",
   "name": "python",
   "nbconvert_exporter": "python",
   "pygments_lexer": "ipython3",
   "version": "3.6.9"
  }
 },
 "nbformat": 4,
 "nbformat_minor": 2
}
